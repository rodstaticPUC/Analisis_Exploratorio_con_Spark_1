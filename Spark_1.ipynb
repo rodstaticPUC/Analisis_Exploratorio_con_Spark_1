{
 "cells": [
  {
   "cell_type": "markdown",
   "id": "b3919e10-a8f3-4093-8eda-d2fb2e8255db",
   "metadata": {},
   "source": [
    "### Practica Spark\n",
    "\n",
    "Registro de un comercio entre Octubre 2019 y Febrero del 2020, con 20.692.840 observaciones "
   ]
  },
  {
   "cell_type": "code",
   "execution_count": 4,
   "id": "973269cb-6c63-4b18-b6e5-de8215879887",
   "metadata": {},
   "outputs": [],
   "source": [
    "import pandas as pd\n",
    "import findspark\n",
    "findspark.init()"
   ]
  },
  {
   "cell_type": "code",
   "execution_count": 5,
   "id": "335ec7c0-d05d-4ec3-b323-745f4f26ad8e",
   "metadata": {},
   "outputs": [],
   "source": [
    "from pyspark import SparkContext\n",
    "sc = SparkContext()"
   ]
  },
  {
   "cell_type": "code",
   "execution_count": 6,
   "id": "519dad83-9e34-4e1c-a265-b95a0d3a10c2",
   "metadata": {},
   "outputs": [],
   "source": [
    "from pyspark.sql import SparkSession\n",
    "from pyspark.sql.functions import concat,col,split\n",
    "from functools import reduce\n",
    "from pyspark.sql import DataFrame\n",
    "from pyspark.sql.types import DoubleType"
   ]
  },
  {
   "cell_type": "code",
   "execution_count": 7,
   "id": "55e6a0ff-64d2-4d16-9739-431473de83b5",
   "metadata": {},
   "outputs": [],
   "source": [
    "spark=SparkSession.builder.appName('Practise').getOrCreate()"
   ]
  },
  {
   "cell_type": "code",
   "execution_count": 8,
   "id": "49cf3400-be9f-477b-9871-76cfb9e1c556",
   "metadata": {},
   "outputs": [],
   "source": [
    "df1_2020 = spark.read.csv(\"2020-Jan.csv\",inferSchema='True',header=\"True\")\n",
    "df2_2020 = spark.read.csv(\"2020-Feb.csv\",inferSchema='True',header=\"True\")\n",
    "df1_2019 = spark.read.csv(\"2019-Oct.csv\",inferSchema='True',header=\"True\")\n",
    "df2_2019 = spark.read.csv(\"2019-Nov.csv\",inferSchema='True',header=\"True\")\n",
    "df3_2019 = spark.read.csv(\"2019-Dec.csv\",inferSchema='True',header=\"True\")\n"
   ]
  },
  {
   "cell_type": "code",
   "execution_count": 126,
   "id": "4af5c06d-b968-4547-9561-ff29c4bc7f25",
   "metadata": {},
   "outputs": [
    {
     "name": "stdout",
     "output_type": "stream",
     "text": [
      "4264752 4156682 4102283 4635837 3533286\n"
     ]
    }
   ],
   "source": [
    "# Dimension de la BBDD\n",
    "print(df1_2020.count(),df2_2020.count(),df1_2019.count(),df2_2019.count(),df3_2019.count())"
   ]
  },
  {
   "cell_type": "code",
   "execution_count": 9,
   "id": "4eb72660-2784-469b-a890-1f7cef95600c",
   "metadata": {},
   "outputs": [],
   "source": [
    "dfs = [df1_2020,df2_2020,df1_2019,df2_2019,df3_2019]\n",
    "df = reduce(DataFrame.unionAll, dfs)"
   ]
  },
  {
   "cell_type": "code",
   "execution_count": 128,
   "id": "abe215f7-d2a1-450d-91d7-cd49fd4d1bf2",
   "metadata": {},
   "outputs": [
    {
     "data": {
      "text/plain": [
       "20692840"
      ]
     },
     "execution_count": 128,
     "metadata": {},
     "output_type": "execute_result"
    }
   ],
   "source": [
    "df.count()"
   ]
  },
  {
   "cell_type": "code",
   "execution_count": 129,
   "id": "a72b69b1-f523-43b1-a428-394ff75a91b3",
   "metadata": {},
   "outputs": [
    {
     "name": "stdout",
     "output_type": "stream",
     "text": [
      "root\n",
      " |-- event_time: string (nullable = true)\n",
      " |-- event_type: string (nullable = true)\n",
      " |-- product_id: integer (nullable = true)\n",
      " |-- category_id: long (nullable = true)\n",
      " |-- category_code: string (nullable = true)\n",
      " |-- brand: string (nullable = true)\n",
      " |-- price: double (nullable = true)\n",
      " |-- user_id: integer (nullable = true)\n",
      " |-- user_session: string (nullable = true)\n",
      "\n"
     ]
    }
   ],
   "source": [
    "# Tipo de variables de BBDD\n",
    "df.printSchema()"
   ]
  },
  {
   "cell_type": "code",
   "execution_count": 130,
   "id": "93686ab7-1d67-471e-a504-9c6adff9025f",
   "metadata": {},
   "outputs": [
    {
     "data": {
      "text/html": [
       "<div>\n",
       "<style scoped>\n",
       "    .dataframe tbody tr th:only-of-type {\n",
       "        vertical-align: middle;\n",
       "    }\n",
       "\n",
       "    .dataframe tbody tr th {\n",
       "        vertical-align: top;\n",
       "    }\n",
       "\n",
       "    .dataframe thead th {\n",
       "        text-align: right;\n",
       "    }\n",
       "</style>\n",
       "<table border=\"1\" class=\"dataframe\">\n",
       "  <thead>\n",
       "    <tr style=\"text-align: right;\">\n",
       "      <th></th>\n",
       "      <th>event_time</th>\n",
       "      <th>event_type</th>\n",
       "      <th>product_id</th>\n",
       "      <th>category_id</th>\n",
       "      <th>category_code</th>\n",
       "      <th>brand</th>\n",
       "      <th>price</th>\n",
       "      <th>user_id</th>\n",
       "      <th>user_session</th>\n",
       "    </tr>\n",
       "  </thead>\n",
       "  <tbody>\n",
       "    <tr>\n",
       "      <th>0</th>\n",
       "      <td>2020-01-01 00:00:00 UTC</td>\n",
       "      <td>view</td>\n",
       "      <td>5809910</td>\n",
       "      <td>1602943681873052386</td>\n",
       "      <td>None</td>\n",
       "      <td>grattol</td>\n",
       "      <td>5.24</td>\n",
       "      <td>595414620</td>\n",
       "      <td>4adb70bb-edbd-4981-b60f-a05bfd32683a</td>\n",
       "    </tr>\n",
       "    <tr>\n",
       "      <th>1</th>\n",
       "      <td>2020-01-01 00:00:09 UTC</td>\n",
       "      <td>view</td>\n",
       "      <td>5812943</td>\n",
       "      <td>1487580012121948301</td>\n",
       "      <td>None</td>\n",
       "      <td>kinetics</td>\n",
       "      <td>3.97</td>\n",
       "      <td>595414640</td>\n",
       "      <td>c8c5205d-be43-4f1d-aa56-4828b8151c8a</td>\n",
       "    </tr>\n",
       "    <tr>\n",
       "      <th>2</th>\n",
       "      <td>2020-01-01 00:00:19 UTC</td>\n",
       "      <td>view</td>\n",
       "      <td>5798924</td>\n",
       "      <td>1783999068867920626</td>\n",
       "      <td>None</td>\n",
       "      <td>zinger</td>\n",
       "      <td>3.97</td>\n",
       "      <td>595412617</td>\n",
       "      <td>46a5010f-bd69-4fbe-a00d-bb17aa7b46f3</td>\n",
       "    </tr>\n",
       "    <tr>\n",
       "      <th>3</th>\n",
       "      <td>2020-01-01 00:00:24 UTC</td>\n",
       "      <td>view</td>\n",
       "      <td>5793052</td>\n",
       "      <td>1487580005754995573</td>\n",
       "      <td>None</td>\n",
       "      <td>None</td>\n",
       "      <td>4.92</td>\n",
       "      <td>420652863</td>\n",
       "      <td>546f6af3-a517-4752-a98b-80c4c5860711</td>\n",
       "    </tr>\n",
       "    <tr>\n",
       "      <th>4</th>\n",
       "      <td>2020-01-01 00:00:25 UTC</td>\n",
       "      <td>view</td>\n",
       "      <td>5899926</td>\n",
       "      <td>2115334439910245200</td>\n",
       "      <td>None</td>\n",
       "      <td>None</td>\n",
       "      <td>3.92</td>\n",
       "      <td>484071203</td>\n",
       "      <td>cff70ddf-529e-4b0c-a4fc-f43a749c0acb</td>\n",
       "    </tr>\n",
       "    <tr>\n",
       "      <th>5</th>\n",
       "      <td>2020-01-01 00:00:30 UTC</td>\n",
       "      <td>view</td>\n",
       "      <td>5837111</td>\n",
       "      <td>1783999068867920626</td>\n",
       "      <td>None</td>\n",
       "      <td>staleks</td>\n",
       "      <td>6.35</td>\n",
       "      <td>595412617</td>\n",
       "      <td>46a5010f-bd69-4fbe-a00d-bb17aa7b46f3</td>\n",
       "    </tr>\n",
       "    <tr>\n",
       "      <th>6</th>\n",
       "      <td>2020-01-01 00:00:37 UTC</td>\n",
       "      <td>cart</td>\n",
       "      <td>5850281</td>\n",
       "      <td>1487580006300255120</td>\n",
       "      <td>None</td>\n",
       "      <td>marathon</td>\n",
       "      <td>137.78</td>\n",
       "      <td>593016733</td>\n",
       "      <td>848f607c-1d14-474a-8869-c40e60783c9d</td>\n",
       "    </tr>\n",
       "    <tr>\n",
       "      <th>7</th>\n",
       "      <td>2020-01-01 00:00:46 UTC</td>\n",
       "      <td>view</td>\n",
       "      <td>5802440</td>\n",
       "      <td>2151191070908613477</td>\n",
       "      <td>None</td>\n",
       "      <td>None</td>\n",
       "      <td>2.16</td>\n",
       "      <td>595411904</td>\n",
       "      <td>74ca1cd5-5381-4ffe-b00b-a258b390db77</td>\n",
       "    </tr>\n",
       "    <tr>\n",
       "      <th>8</th>\n",
       "      <td>2020-01-01 00:00:57 UTC</td>\n",
       "      <td>view</td>\n",
       "      <td>5726464</td>\n",
       "      <td>1487580005268456287</td>\n",
       "      <td>None</td>\n",
       "      <td>None</td>\n",
       "      <td>5.56</td>\n",
       "      <td>420652863</td>\n",
       "      <td>546f6af3-a517-4752-a98b-80c4c5860711</td>\n",
       "    </tr>\n",
       "    <tr>\n",
       "      <th>9</th>\n",
       "      <td>2020-01-01 00:01:02 UTC</td>\n",
       "      <td>remove_from_cart</td>\n",
       "      <td>5850281</td>\n",
       "      <td>1487580006300255120</td>\n",
       "      <td>None</td>\n",
       "      <td>marathon</td>\n",
       "      <td>137.78</td>\n",
       "      <td>593016733</td>\n",
       "      <td>848f607c-1d14-474a-8869-c40e60783c9d</td>\n",
       "    </tr>\n",
       "  </tbody>\n",
       "</table>\n",
       "</div>"
      ],
      "text/plain": [
       "                event_time        event_type  product_id          category_id  \\\n",
       "0  2020-01-01 00:00:00 UTC              view     5809910  1602943681873052386   \n",
       "1  2020-01-01 00:00:09 UTC              view     5812943  1487580012121948301   \n",
       "2  2020-01-01 00:00:19 UTC              view     5798924  1783999068867920626   \n",
       "3  2020-01-01 00:00:24 UTC              view     5793052  1487580005754995573   \n",
       "4  2020-01-01 00:00:25 UTC              view     5899926  2115334439910245200   \n",
       "5  2020-01-01 00:00:30 UTC              view     5837111  1783999068867920626   \n",
       "6  2020-01-01 00:00:37 UTC              cart     5850281  1487580006300255120   \n",
       "7  2020-01-01 00:00:46 UTC              view     5802440  2151191070908613477   \n",
       "8  2020-01-01 00:00:57 UTC              view     5726464  1487580005268456287   \n",
       "9  2020-01-01 00:01:02 UTC  remove_from_cart     5850281  1487580006300255120   \n",
       "\n",
       "  category_code     brand   price    user_id  \\\n",
       "0          None   grattol    5.24  595414620   \n",
       "1          None  kinetics    3.97  595414640   \n",
       "2          None    zinger    3.97  595412617   \n",
       "3          None      None    4.92  420652863   \n",
       "4          None      None    3.92  484071203   \n",
       "5          None   staleks    6.35  595412617   \n",
       "6          None  marathon  137.78  593016733   \n",
       "7          None      None    2.16  595411904   \n",
       "8          None      None    5.56  420652863   \n",
       "9          None  marathon  137.78  593016733   \n",
       "\n",
       "                           user_session  \n",
       "0  4adb70bb-edbd-4981-b60f-a05bfd32683a  \n",
       "1  c8c5205d-be43-4f1d-aa56-4828b8151c8a  \n",
       "2  46a5010f-bd69-4fbe-a00d-bb17aa7b46f3  \n",
       "3  546f6af3-a517-4752-a98b-80c4c5860711  \n",
       "4  cff70ddf-529e-4b0c-a4fc-f43a749c0acb  \n",
       "5  46a5010f-bd69-4fbe-a00d-bb17aa7b46f3  \n",
       "6  848f607c-1d14-474a-8869-c40e60783c9d  \n",
       "7  74ca1cd5-5381-4ffe-b00b-a258b390db77  \n",
       "8  546f6af3-a517-4752-a98b-80c4c5860711  \n",
       "9  848f607c-1d14-474a-8869-c40e60783c9d  "
      ]
     },
     "execution_count": 130,
     "metadata": {},
     "output_type": "execute_result"
    }
   ],
   "source": [
    "# Mostrar 10 primeros elementos\n",
    "df_dataset = df.limit(10)\n",
    "df_dataset.toPandas()"
   ]
  },
  {
   "cell_type": "code",
   "execution_count": 52,
   "id": "73bd4b80-6b5e-4f97-9e7d-56513be7b036",
   "metadata": {},
   "outputs": [
    {
     "data": {
      "text/plain": [
       "{'event_time': 0,\n",
       " 'event_type': 0,\n",
       " 'product_id': 0,\n",
       " 'category_id': 0,\n",
       " 'category_code': 20339246,\n",
       " 'brand': 8757117,\n",
       " 'price': 0,\n",
       " 'user_id': 0,\n",
       " 'user_session': 4598}"
      ]
     },
     "execution_count": 52,
     "metadata": {},
     "output_type": "execute_result"
    }
   ],
   "source": [
    "# Busqueda de NA\n",
    "df = {col:df.filter(df[col].isNull()).count() for col in df.columns}\n",
    "df\n",
    "\n",
    "# se observa que la variable category code tiene en su totalidad NA\n",
    "# Brand tiene 8757117 con NA"
   ]
  },
  {
   "cell_type": "code",
   "execution_count": 17,
   "id": "76d200f0-8641-4199-93b0-562859971df4",
   "metadata": {
    "tags": []
   },
   "outputs": [
    {
     "name": "stdout",
     "output_type": "stream",
     "text": [
      "+----------------+\n",
      "|      event_type|\n",
      "+----------------+\n",
      "|        purchase|\n",
      "|            view|\n",
      "|            cart|\n",
      "|remove_from_cart|\n",
      "+----------------+\n",
      "\n"
     ]
    }
   ],
   "source": [
    "# tipos de eventos\n",
    "df.select(\"event_type\").distinct().show()\n",
    "\n",
    "# purchase         = compra\n",
    "# view             = ver un articulo\n",
    "# cart             = añadir un articulo al carro\n",
    "# remove from cart = remover un articulo del carro"
   ]
  },
  {
   "cell_type": "code",
   "execution_count": 33,
   "id": "9c0ca7f7-8c80-4ecf-b91a-14ef279917e0",
   "metadata": {},
   "outputs": [
    {
     "name": "stdout",
     "output_type": "stream",
     "text": [
      "+----------------+-------+\n",
      "|      event_type|  count|\n",
      "+----------------+-------+\n",
      "|        purchase|1287007|\n",
      "|            view|9657821|\n",
      "|            cart|5768333|\n",
      "|remove_from_cart|3979679|\n",
      "+----------------+-------+\n",
      "\n"
     ]
    }
   ],
   "source": [
    "# Contabilizar la cantidad de eventos para la variable event_type\n",
    "contarPorEvento = df.groupBy(\"event_type\").count()\n",
    "contarPorEvento.show()\n",
    "\n",
    "# Tenemos casi 4 millones de registros de productos que fueron removidos del carro de compras"
   ]
  },
  {
   "cell_type": "code",
   "execution_count": 10,
   "id": "2cd776a3-3c83-4dbb-8ee8-bb78e6e51b78",
   "metadata": {},
   "outputs": [
    {
     "name": "stdout",
     "output_type": "stream",
     "text": [
      "+----------+-------+\n",
      "|event_type|  count|\n",
      "+----------+-------+\n",
      "|  purchase|1287007|\n",
      "|      view|9657821|\n",
      "|      cart|5768333|\n",
      "+----------+-------+\n",
      "\n"
     ]
    }
   ],
   "source": [
    "# Podriamos eliminar las compras que fueron removidas del carro de compras\n",
    "df1 = df.filter(df.event_type != \"remove_from_cart\")\n",
    "contarPorEvento = df1.groupBy(\"event_type\").count()\n",
    "contarPorEvento.show()"
   ]
  },
  {
   "cell_type": "code",
   "execution_count": 132,
   "id": "3e267959-ac49-480b-8724-40bed7dd704f",
   "metadata": {},
   "outputs": [
    {
     "name": "stdout",
     "output_type": "stream",
     "text": [
      "+-------+------------------+\n",
      "|summary|             price|\n",
      "+-------+------------------+\n",
      "|  count|          16713161|\n",
      "|   mean| 9.320747965634618|\n",
      "| stddev|20.901918046263543|\n",
      "|    min|            -79.37|\n",
      "|    max|            327.78|\n",
      "+-------+------------------+\n",
      "\n"
     ]
    }
   ],
   "source": [
    "# descripcion de la variable price\n",
    "df1.describe('price').show()\n",
    "\n",
    "# porque hay precios negativos?"
   ]
  },
  {
   "cell_type": "code",
   "execution_count": 11,
   "id": "3c13d70a-c76c-498d-aef3-5f43890f1894",
   "metadata": {},
   "outputs": [],
   "source": [
    "# lamentablemente la info de la data no abarca este suceso\n",
    "# se procede a eliminar esos registros\n",
    "\n",
    "df1 = df1.where(df1.price>=1)\n"
   ]
  },
  {
   "cell_type": "code",
   "execution_count": 36,
   "id": "7859273e-46f6-4cff-b51b-6f2c44f05ce8",
   "metadata": {},
   "outputs": [
    {
     "name": "stdout",
     "output_type": "stream",
     "text": [
      "+------------+\n",
      "|       brand|\n",
      "+------------+\n",
      "|     beautix|\n",
      "|     farmona|\n",
      "|  dr.gloderm|\n",
      "|   profhenna|\n",
      "|       riche|\n",
      "|        oniq|\n",
      "|    lebelage|\n",
      "|     vilenta|\n",
      "|       fancy|\n",
      "|    siberina|\n",
      "|      jaguar|\n",
      "|      tertio|\n",
      "|   koreatida|\n",
      "|         jas|\n",
      "|rocknailstar|\n",
      "|   depilflax|\n",
      "|protokeratin|\n",
      "|     relouis|\n",
      "|       essie|\n",
      "|      coifin|\n",
      "+------------+\n",
      "only showing top 20 rows\n",
      "\n"
     ]
    }
   ],
   "source": [
    "# cuantas marcas disponibles\n",
    "df1.select(\"brand\").distinct().show()"
   ]
  },
  {
   "cell_type": "code",
   "execution_count": 65,
   "id": "aa2d1213-19d2-46c4-95c7-21bca4a84416",
   "metadata": {},
   "outputs": [
    {
     "name": "stdout",
     "output_type": "stream",
     "text": [
      "+------------+-----+\n",
      "|       brand|count|\n",
      "+------------+-----+\n",
      "|     beautix|78649|\n",
      "|     farmona| 7042|\n",
      "|  dr.gloderm| 1961|\n",
      "|   profhenna| 6021|\n",
      "|       riche| 3072|\n",
      "|        oniq|95869|\n",
      "|    lebelage| 3531|\n",
      "|     vilenta| 3774|\n",
      "|       fancy| 1232|\n",
      "|    siberina|10814|\n",
      "|      jaguar| 8451|\n",
      "|      tertio| 6240|\n",
      "|   koreatida|  720|\n",
      "|         jas|24036|\n",
      "|rocknailstar|  115|\n",
      "|   depilflax|24130|\n",
      "|protokeratin| 3135|\n",
      "|     relouis|11672|\n",
      "|       essie|   45|\n",
      "|      coifin| 6602|\n",
      "+------------+-----+\n",
      "only showing top 20 rows\n",
      "\n"
     ]
    }
   ],
   "source": [
    "# Cantidad de productos por marca\n",
    "contarPorProduc = df1.groupBy(\"brand\").count()\n",
    "contarPorProduc.show()"
   ]
  },
  {
   "cell_type": "code",
   "execution_count": 134,
   "id": "807996a3-6282-4ff6-94d7-43f3dce1f5af",
   "metadata": {},
   "outputs": [
    {
     "name": "stdout",
     "output_type": "stream",
     "text": [
      "+------------+------------------+\n",
      "|       brand|        sum(price)|\n",
      "+------------+------------------+\n",
      "|     beautix|  976885.569999988|\n",
      "|     farmona|165549.46999999983|\n",
      "|  dr.gloderm|52620.599999999984|\n",
      "|   profhenna| 55255.89999999998|\n",
      "|       riche|          68953.72|\n",
      "|        oniq| 950167.6099999889|\n",
      "|    lebelage|          21891.88|\n",
      "|     vilenta| 8811.619999999995|\n",
      "|       fancy| 6269.980000000001|\n",
      "|    siberina| 61655.72999999995|\n",
      "|      jaguar|415651.24000000063|\n",
      "|      tertio| 25325.38999999999|\n",
      "|   koreatida|           16916.7|\n",
      "|         jas|1233417.8099999982|\n",
      "|rocknailstar|331.13999999999993|\n",
      "|   depilflax|175251.97000000018|\n",
      "|protokeratin|44295.859999999986|\n",
      "|     relouis| 55611.69000000006|\n",
      "|       essie|362.34999999999997|\n",
      "|      coifin| 381471.9599999993|\n",
      "+------------+------------------+\n",
      "only showing top 20 rows\n",
      "\n"
     ]
    }
   ],
   "source": [
    "#Cantidad de dinero vendida por marca\n",
    "df1.groupBy(\"brand\").sum(\"price\").show()"
   ]
  },
  {
   "cell_type": "code",
   "execution_count": 135,
   "id": "bf2adb0d-3774-46d5-b227-969758905387",
   "metadata": {},
   "outputs": [
    {
     "name": "stdout",
     "output_type": "stream",
     "text": [
      "+------------+------------------+\n",
      "|       brand|        avg(price)|\n",
      "+------------+------------------+\n",
      "|     beautix|12.420826329641674|\n",
      "|     farmona| 23.50887105935811|\n",
      "|  dr.gloderm|   26.833554309026|\n",
      "|   profhenna| 9.177196478990197|\n",
      "|       riche|22.445872395833334|\n",
      "|        oniq| 9.911103797890757|\n",
      "|    lebelage|6.1999093741149816|\n",
      "|     vilenta| 2.334822469528351|\n",
      "|       fancy| 5.089269480519482|\n",
      "|    siberina| 5.701473090438316|\n",
      "|      jaguar| 49.18367530469774|\n",
      "|      tertio| 4.058556089743588|\n",
      "|   koreatida|23.495416666666667|\n",
      "|         jas| 51.31543559660502|\n",
      "|rocknailstar| 2.879478260869565|\n",
      "|   depilflax|7.2628251139660245|\n",
      "|protokeratin|14.129460925039869|\n",
      "|     relouis| 4.764538211103501|\n",
      "|       essie| 8.052222222222222|\n",
      "|      coifin|57.781272341714526|\n",
      "+------------+------------------+\n",
      "only showing top 20 rows\n",
      "\n"
     ]
    }
   ],
   "source": [
    "# Precio promedio por producto vendido por marca\n",
    "df1.groupBy(\"brand\").mean(\"price\").show()"
   ]
  },
  {
   "cell_type": "code",
   "execution_count": 68,
   "id": "6db0b764-1f05-470c-84cc-6af3417c2146",
   "metadata": {},
   "outputs": [
    {
     "name": "stdout",
     "output_type": "stream",
     "text": [
      "+----------+\n",
      "|product_id|\n",
      "+----------+\n",
      "|   5850281|\n",
      "|   5802440|\n",
      "|   5810716|\n",
      "|   5809803|\n",
      "|   5591314|\n",
      "|   5869577|\n",
      "|   5800788|\n",
      "|      6730|\n",
      "|   5712801|\n",
      "|   5878923|\n",
      "|   5622680|\n",
      "|   5775981|\n",
      "|   5814046|\n",
      "|   5775982|\n",
      "|   5775985|\n",
      "|   5706782|\n",
      "|   5828286|\n",
      "|   5809910|\n",
      "|      5938|\n",
      "|   5828284|\n",
      "+----------+\n",
      "only showing top 20 rows\n",
      "\n"
     ]
    }
   ],
   "source": [
    "# cuales son los productos que se venden acompañados?\n",
    "\n",
    "df1.select([\"product_id\"]).filter(\"event_type = 'cart'\").show()"
   ]
  },
  {
   "cell_type": "code",
   "execution_count": 69,
   "id": "613a890b-e2de-40be-bbf2-e29210371120",
   "metadata": {},
   "outputs": [],
   "source": [
    "# sesiones donde el producto 5850281 se ha metido en el carro\n",
    "\n",
    "sesions = df1.select([\"user_session\"]).filter(\"event_type = 'cart' AND product_id = 5850281\")"
   ]
  },
  {
   "cell_type": "code",
   "execution_count": 70,
   "id": "a3845630-2637-470a-8969-c362f94abdad",
   "metadata": {},
   "outputs": [],
   "source": [
    "# Ahora se accederan a todos los productos que se han metido al carro en conjunto con el producto 5850281\n",
    "products = df1.select([\"product_id\"]).filter(\"event_type = 'cart' AND product_id <> 5850281\").filter(df[\"user_session\"].isin(sesions[\"user_session\"]))\n"
   ]
  },
  {
   "cell_type": "code",
   "execution_count": 71,
   "id": "d2ac314b-56f0-41a4-a4b1-295af0f16769",
   "metadata": {},
   "outputs": [
    {
     "name": "stdout",
     "output_type": "stream",
     "text": [
      "+----------+\n",
      "|product_id|\n",
      "+----------+\n",
      "|   5802440|\n",
      "|   5810716|\n",
      "|   5809803|\n",
      "|   5591314|\n",
      "|   5869577|\n",
      "|   5800788|\n",
      "|      6730|\n",
      "|   5712801|\n",
      "|   5878923|\n",
      "|   5622680|\n",
      "|   5775981|\n",
      "|   5814046|\n",
      "|   5775982|\n",
      "|   5775985|\n",
      "|   5706782|\n",
      "|   5828286|\n",
      "|   5809910|\n",
      "|      5938|\n",
      "|   5828284|\n",
      "|   5628025|\n",
      "+----------+\n",
      "only showing top 20 rows\n",
      "\n"
     ]
    }
   ],
   "source": [
    "# Productos que fueron vendidos en conjunto con 5850281\n",
    "\n",
    "products.select(\"product_id\").show()"
   ]
  },
  {
   "cell_type": "code",
   "execution_count": 72,
   "id": "b6136832-f50b-4fd2-9af1-b2476a576b5d",
   "metadata": {},
   "outputs": [
    {
     "data": {
      "text/plain": [
       "4794780"
      ]
     },
     "execution_count": 72,
     "metadata": {},
     "output_type": "execute_result"
    }
   ],
   "source": [
    "# Cuantos son?\n",
    "products.select(\"product_id\").count()\n",
    "\n",
    "\n",
    "# Son 4.794.780 productos, pero hay copias entre si, ya que una dupla de productos fue realizada varias veces.\n",
    "# Por tanto, buscamos los distintos"
   ]
  },
  {
   "cell_type": "code",
   "execution_count": 73,
   "id": "03b9744f-c228-48c4-aebb-32fd61fbcc88",
   "metadata": {},
   "outputs": [],
   "source": [
    "products = products.select(\"product_id\").distinct()"
   ]
  },
  {
   "cell_type": "code",
   "execution_count": 74,
   "id": "fb126811-0201-4260-8d74-80c1a13b411d",
   "metadata": {},
   "outputs": [
    {
     "data": {
      "text/plain": [
       "42734"
      ]
     },
     "execution_count": 74,
     "metadata": {},
     "output_type": "execute_result"
    }
   ],
   "source": [
    "# Ahora si, se obtiene una lista de 42.734 productos distintos que fueron vendidos en conjunto con el producto 5850281\n",
    "\n",
    "products.select(\"product_id\").count()"
   ]
  },
  {
   "cell_type": "code",
   "execution_count": 12,
   "id": "ac1998fd-f3b6-44c8-b736-f7f49303162d",
   "metadata": {
    "tags": []
   },
   "outputs": [],
   "source": [
    "# Podriamos separar la data por año y meses\n",
    "\n",
    "df2 = df1.withColumn('year', split(df1['event_time'], '-').getItem(0)) \\\n",
    "       .withColumn('month', split(df1['event_time'], '-').getItem(1)) \\\n",
    "       .withColumn('day', split(df1['event_time'], '-').getItem(2))\n"
   ]
  },
  {
   "cell_type": "code",
   "execution_count": 13,
   "id": "22d4e6e3-8407-4831-8130-34f5aa816888",
   "metadata": {},
   "outputs": [
    {
     "name": "stdout",
     "output_type": "stream",
     "text": [
      "+----------+----------+-------------------+-------------+---------+------+---------+--------------------+----+-----+\n",
      "|event_type|product_id|        category_id|category_code|    brand| price|  user_id|        user_session|year|month|\n",
      "+----------+----------+-------------------+-------------+---------+------+---------+--------------------+----+-----+\n",
      "|      view|   5809910|1602943681873052386|         null|  grattol|  5.24|595414620|4adb70bb-edbd-498...|2020|   01|\n",
      "|      view|   5812943|1487580012121948301|         null| kinetics|  3.97|595414640|c8c5205d-be43-4f1...|2020|   01|\n",
      "|      view|   5798924|1783999068867920626|         null|   zinger|  3.97|595412617|46a5010f-bd69-4fb...|2020|   01|\n",
      "|      view|   5793052|1487580005754995573|         null|     null|  4.92|420652863|546f6af3-a517-475...|2020|   01|\n",
      "|      view|   5899926|2115334439910245200|         null|     null|  3.92|484071203|cff70ddf-529e-4b0...|2020|   01|\n",
      "|      view|   5837111|1783999068867920626|         null|  staleks|  6.35|595412617|46a5010f-bd69-4fb...|2020|   01|\n",
      "|      cart|   5850281|1487580006300255120|         null| marathon|137.78|593016733|848f607c-1d14-474...|2020|   01|\n",
      "|      view|   5802440|2151191070908613477|         null|     null|  2.16|595411904|74ca1cd5-5381-4ff...|2020|   01|\n",
      "|      view|   5726464|1487580005268456287|         null|     null|  5.56|420652863|546f6af3-a517-475...|2020|   01|\n",
      "|      view|   5809910|1602943681873052386|         null|  grattol|  5.24|588166646|e099adca-fec5-4ae...|2020|   01|\n",
      "|      cart|   5802440|2151191070908613477|         null|     null|  2.16|595411904|74ca1cd5-5381-4ff...|2020|   01|\n",
      "|      view|   5753479|1487580013069861041|         null|  italwax|  2.68|545251190|130db082-0e4b-4a0...|2020|   01|\n",
      "|      view|   5911252|1487580007675986893|         null|dartnails|  1.27|539775844|e04ed824-4857-40e...|2020|   01|\n",
      "|      view|   5810716|1487580012096782476|         null|     milv|  1.27|595414814|dc2fb978-1008-409...|2020|   01|\n",
      "|      view|   5831649|1783999068867920626|         null|     null|  1.43|595412617|46a5010f-bd69-4fb...|2020|   01|\n",
      "|      view|   5741344|1487580005427839846|         null|    irisk|  4.29|420652863|546f6af3-a517-475...|2020|   01|\n",
      "|      view|   5770029|1487580013841613016|         null|   kapous|  2.81|562921825|2d7bf387-7c51-4a5...|2020|   01|\n",
      "|      view|   5810674|1487580013069861041|         null|  italwax| 10.32|545251190|130db082-0e4b-4a0...|2020|   01|\n",
      "|      view|   5784983|2195085255034011676|         null| severina|  2.06|502631750|6edb4c0e-285c-4fb...|2020|   01|\n",
      "|      view|   5793261|1487580010100293687|         null|     null| 22.21|579707372|c4e35119-bbf5-49f...|2020|   01|\n",
      "+----------+----------+-------------------+-------------+---------+------+---------+--------------------+----+-----+\n",
      "only showing top 20 rows\n",
      "\n"
     ]
    }
   ],
   "source": [
    "df2=df2.drop('event_time','day')\n",
    "df2.show()"
   ]
  },
  {
   "cell_type": "code",
   "execution_count": 14,
   "id": "fd8985a6-0ff5-4c4a-a979-4d2e078d7d5c",
   "metadata": {},
   "outputs": [
    {
     "name": "stdout",
     "output_type": "stream",
     "text": [
      "+-----+-------+\n",
      "|month|  count|\n",
      "+-----+-------+\n",
      "|   01|3107111|\n",
      "|   02|2965472|\n",
      "|   10|2990352|\n",
      "|   11|3290461|\n",
      "|   12|2580619|\n",
      "+-----+-------+\n",
      "\n"
     ]
    }
   ],
   "source": [
    "# Cantidad de productos vendidos por mes\n",
    "contarPorMes = df2.groupBy(\"month\").count()\n",
    "contarPorMes.show()"
   ]
  },
  {
   "cell_type": "code",
   "execution_count": 150,
   "id": "acce286d-1669-424f-bff8-81b392e62096",
   "metadata": {},
   "outputs": [],
   "source": [
    "exit()"
   ]
  }
 ],
 "metadata": {
  "kernelspec": {
   "display_name": "Python 3 (ipykernel)",
   "language": "python",
   "name": "python3"
  },
  "language_info": {
   "codemirror_mode": {
    "name": "ipython",
    "version": 3
   },
   "file_extension": ".py",
   "mimetype": "text/x-python",
   "name": "python",
   "nbconvert_exporter": "python",
   "pygments_lexer": "ipython3",
   "version": "3.9.7"
  }
 },
 "nbformat": 4,
 "nbformat_minor": 5
}
